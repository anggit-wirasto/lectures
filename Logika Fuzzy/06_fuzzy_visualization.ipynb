{
 "cells": [
  {
   "cell_type": "markdown",
   "id": "f0a7180a",
   "metadata": {},
   "source": [
    "# Visualisasi Fungsi Keanggotaan (Membership Function)\n",
    "\n",
    "Contoh visualisasi fungsi keanggotaan untuk metode Mamdani, Sugeno, dan Tsukamoto."
   ]
  },
  {
   "cell_type": "markdown",
   "id": "fa497103",
   "metadata": {},
   "source": [
    "## 1. Mamdani: Fungsi Keanggotaan Temperatur"
   ]
  },
  {
   "cell_type": "code",
   "execution_count": null,
   "id": "ade3c562",
   "metadata": {},
   "outputs": [],
   "source": [
    "\n",
    "# Visualisasi Fungsi Keanggotaan Mamdani\n",
    "\n",
    "x = np.linspace(0, 40, 400)\n",
    "\n",
    "def dingin(x):\n",
    "    return np.maximum(0, np.minimum(1, (20 - x)/20))\n",
    "\n",
    "def hangat(x):\n",
    "    return np.maximum(0, np.minimum((x-10)/10, (30-x)/10))\n",
    "\n",
    "def panas(x):\n",
    "    return np.maximum(0, np.minimum(1, (x-20)/20))\n",
    "\n",
    "plt.figure(figsize=(8,5))\n",
    "plt.plot(x, dingin(x), label='Dingin')\n",
    "plt.plot(x, hangat(x), label='Hangat')\n",
    "plt.plot(x, panas(x), label='Panas')\n",
    "plt.title('Fungsi Keanggotaan Mamdani (Temperatur)')\n",
    "plt.xlabel('Temperatur (°C)')\n",
    "plt.ylabel('Derajat Keanggotaan')\n",
    "plt.legend()\n",
    "plt.grid(True)\n",
    "plt.show()\n"
   ]
  },
  {
   "cell_type": "markdown",
   "id": "3e01a434",
   "metadata": {},
   "source": [
    "## 2. Sugeno: Fungsi Output Linear"
   ]
  },
  {
   "cell_type": "code",
   "execution_count": null,
   "id": "f2de8e3a",
   "metadata": {},
   "outputs": [],
   "source": [
    "\n",
    "# Visualisasi Fungsi Output Sugeno\n",
    "\n",
    "kecepatan = np.linspace(0, 120, 100)\n",
    "output_linear = 0.01 * kecepatan - 0.5  # contoh fungsi linear\n",
    "\n",
    "plt.figure(figsize=(8,5))\n",
    "plt.plot(kecepatan, output_linear, label='Output Linear z=0.01x-0.5')\n",
    "plt.title('Fungsi Output Sugeno (Percepatan Kendaraan)')\n",
    "plt.xlabel('Kecepatan (km/jam)')\n",
    "plt.ylabel('Percepatan (m/s²)')\n",
    "plt.legend()\n",
    "plt.grid(True)\n",
    "plt.show()\n"
   ]
  },
  {
   "cell_type": "markdown",
   "id": "f442b12c",
   "metadata": {},
   "source": [
    "## 3. Tsukamoto: Fungsi Keanggotaan Monoton"
   ]
  },
  {
   "cell_type": "code",
   "execution_count": null,
   "id": "1bc15e0d",
   "metadata": {},
   "outputs": [],
   "source": [
    "\n",
    "# Visualisasi Fungsi Monoton Tsukamoto\n",
    "\n",
    "z = np.linspace(0, 1, 100)\n",
    "naik = z  # monoton naik\n",
    "turun = 1 - z  # monoton turun\n",
    "\n",
    "plt.figure(figsize=(8,5))\n",
    "plt.plot(z, naik, label='Naik (Monoton)')\n",
    "plt.plot(z, turun, label='Turun (Monoton)')\n",
    "plt.title('Fungsi Keanggotaan Tsukamoto (Kelayakan Kredit)')\n",
    "plt.xlabel('Nilai Output (z)')\n",
    "plt.ylabel('Derajat Keanggotaan')\n",
    "plt.legend()\n",
    "plt.grid(True)\n",
    "plt.show()\n"
   ]
  }
 ],
 "metadata": {},
 "nbformat": 4,
 "nbformat_minor": 5
}
