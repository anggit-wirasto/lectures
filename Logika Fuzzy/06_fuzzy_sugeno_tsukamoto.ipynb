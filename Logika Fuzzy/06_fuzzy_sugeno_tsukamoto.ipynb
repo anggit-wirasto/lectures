{
 "cells": [
  {
   "cell_type": "markdown",
   "id": "67bf65ce",
   "metadata": {},
   "source": [
    "# Implementasi Logika Fuzzy: Metode Sugeno dan Tsukamoto\n",
    "\n",
    "Ini adalah contoh implementasi sederhana untuk metode Sugeno dan Tsukamoto dalam logika fuzzy."
   ]
  },
  {
   "cell_type": "markdown",
   "id": "58950c11",
   "metadata": {},
   "source": [
    "## 1. Metode Sugeno"
   ]
  },
  {
   "cell_type": "code",
   "execution_count": null,
   "id": "07d2542e",
   "metadata": {},
   "outputs": [],
   "source": [
    "\n",
    "# Fungsi Sugeno sederhana\n",
    "\n",
    "def sugeno_inference(input_kecepatan, input_jarak):\n",
    "    # Membership functions\n",
    "    lambat = max(0, min(1, (80 - input_kecepatan) / 40))  # linear dari 40-80\n",
    "    cepat = max(0, min(1, (input_kecepatan - 40) / 40))\n",
    "    dekat = max(0, min(1, (30 - input_jarak) / 20))\n",
    "    jauh = max(0, min(1, (input_jarak - 10) / 20))\n",
    "\n",
    "    # Firing strength\n",
    "    w1 = min(lambat, dekat)\n",
    "    w2 = min(cepat, dekat)\n",
    "    w3 = min(lambat, jauh)\n",
    "    w4 = min(cepat, jauh)\n",
    "\n",
    "    # Konsekuen\n",
    "    z1, z2, z3, z4 = 0, -2, 2, 1\n",
    "\n",
    "    # Weighted average\n",
    "    output = (w1*z1 + w2*z2 + w3*z3 + w4*z4) / (w1+w2+w3+w4)\n",
    "    return output\n",
    "\n",
    "# Contoh penggunaan\n",
    "kecepatan = 70\n",
    "jarak = 15\n",
    "output_sugeno = sugeno_inference(kecepatan, jarak)\n",
    "print(f\"Output Sugeno untuk kecepatan={kecepatan} km/jam dan jarak={jarak} m adalah {output_sugeno:.3f} m/s²\")\n"
   ]
  },
  {
   "cell_type": "markdown",
   "id": "9613ff98",
   "metadata": {},
   "source": [
    "## 2. Metode Tsukamoto"
   ]
  },
  {
   "cell_type": "code",
   "execution_count": null,
   "id": "dda153ff",
   "metadata": {},
   "outputs": [],
   "source": [
    "\n",
    "# Fungsi Tsukamoto sederhana\n",
    "\n",
    "def tsukamoto_inference(input_pendapatan, input_harga):\n",
    "    # Membership functions\n",
    "    rendah = max(0, min(1, (8 - input_pendapatan) / 4))\n",
    "    tinggi = max(0, min(1, (input_pendapatan - 4) / 4))\n",
    "    murah = max(0, min(1, (600 - input_harga) / 200))\n",
    "    mahal = max(0, min(1, (input_harga - 400) / 200))\n",
    "\n",
    "    # Firing strength\n",
    "    w1 = min(rendah, murah)\n",
    "    w2 = min(tinggi, mahal)\n",
    "\n",
    "    # Output mapping\n",
    "    z1 = 1 - w1  # turun\n",
    "    z2 = w2      # naik\n",
    "\n",
    "    output = (w1*z1 + w2*z2) / (w1+w2)\n",
    "    return output\n",
    "\n",
    "# Contoh penggunaan\n",
    "pendapatan = 6\n",
    "harga = 500\n",
    "output_tsukamoto = tsukamoto_inference(pendapatan, harga)\n",
    "print(f\"Output Tsukamoto untuk pendapatan={pendapatan} juta dan harga rumah={harga} juta adalah {output_tsukamoto:.3f}\")\n"
   ]
  },
  {
   "cell_type": "markdown",
   "id": "42f3143a",
   "metadata": {},
   "source": [
    "## 3. Kesimpulan\n",
    "- Metode Sugeno menghasilkan output berbentuk fungsi linear atau konstan.\n",
    "- Metode Tsukamoto menghasilkan output crisp untuk setiap aturan, lalu digabung.\n",
    "\n",
    "Sistem fuzzy seperti ini banyak digunakan dalam kontrol kendaraan, rekomendasi kredit, pengaturan suhu otomatis, dll."
   ]
  },
  {
   "cell_type": "markdown",
   "id": "8eab55e9",
   "metadata": {},
   "source": [
    "\n",
    "## 4. Perbandingan Metode Mamdani, Sugeno, dan Tsukamoto\n",
    "\n",
    "| Metode     | Ciri Khas                                 | Kelebihan                          | Kekurangan                      | Contoh Penggunaan                   |\n",
    "|------------|-------------------------------------------|------------------------------------|----------------------------------|-------------------------------------|\n",
    "| Mamdani    | Output berupa himpunan fuzzy, defuzzifikasi akhir (COG) | Interpretasi mudah, intuitif      | Defuzzifikasi membutuhkan komputasi lebih berat | Sistem kontrol suhu AC rumah |\n",
    "| Sugeno     | Output berupa fungsi linear/konstan       | Cepat, cocok untuk optimasi        | Tidak intuitif untuk sistem kompleks | Sistem kontrol kendaraan otomatis |\n",
    "| Tsukamoto  | Output crisp tiap aturan, fungsi monoton  | Output halus (smooth), cocok untuk sistem ranking | Kompleksitas tinggi saat banyak aturan | Sistem penilaian kelayakan kredit bank |\n",
    "\n",
    "### Penjelasan Penggunaan Spesifik\n",
    "\n",
    "1. **Mamdani:**\n",
    "Digunakan dalam **kontrol suhu AC rumah** karena aturan \"Jika suhu panas maka turunkan suhu\" sangat intuitif untuk dipahami, dan output fuzzy lebih manusiawi.\n",
    "\n",
    "2. **Sugeno:**\n",
    "Digunakan dalam **kontrol kendaraan otomatis** seperti cruise control mobil. Output percepatan/kecepatan bisa langsung dihitung dari fungsi linear input (lebih cepat diproses dan dioptimalkan).\n",
    "\n",
    "3. **Tsukamoto:**\n",
    "Digunakan dalam **sistem penilaian kelayakan kredit bank** karena memerlukan hasil skor akhir (crisp) yang \"smooth\" berdasarkan variabel pendapatan dan harga rumah, sesuai dengan kebutuhan sistem evaluasi ranking.\n",
    "\n",
    "### Alasan Pemilihan Metode\n",
    "- **Mamdani** cocok untuk sistem berbasis aturan manusiawi.\n",
    "- **Sugeno** lebih baik untuk aplikasi real-time dan sistem berbasis optimasi.\n",
    "- **Tsukamoto** ideal untuk sistem penilaian atau rekomendasi yang membutuhkan nilai akhir yang halus dan terkontrol.\n"
   ]
  }
 ],
 "metadata": {},
 "nbformat": 4,
 "nbformat_minor": 5
}
